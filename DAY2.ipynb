{
 "cells": [
  {
   "cell_type": "markdown",
   "metadata": {},
   "source": [
    "# Day2"
   ]
  },
  {
   "cell_type": "code",
   "execution_count": 1,
   "metadata": {},
   "outputs": [],
   "source": [
    "import Bio"
   ]
  },
  {
   "cell_type": "code",
   "execution_count": 3,
   "metadata": {},
   "outputs": [
    {
     "data": {
      "text/plain": [
       "'1.77'"
      ]
     },
     "execution_count": 3,
     "metadata": {},
     "output_type": "execute_result"
    }
   ],
   "source": [
    "Bio.__version__"
   ]
  },
  {
   "cell_type": "code",
   "execution_count": 4,
   "metadata": {},
   "outputs": [
    {
     "data": {
      "text/plain": [
       "[1, 2, 3, 4, 5, 6, 7, 8, 9, 10]"
      ]
     },
     "execution_count": 4,
     "metadata": {},
     "output_type": "execute_result"
    }
   ],
   "source": [
    "list(range(1, 11, 1))"
   ]
  },
  {
   "cell_type": "code",
   "execution_count": 6,
   "metadata": {},
   "outputs": [
    {
     "data": {
      "text/plain": [
       "[1, 3, 5, 7, 9]"
      ]
     },
     "execution_count": 6,
     "metadata": {},
     "output_type": "execute_result"
    }
   ],
   "source": [
    "list(range(1, 11, 2))"
   ]
  },
  {
   "cell_type": "code",
   "execution_count": 11,
   "metadata": {},
   "outputs": [
    {
     "name": "stdout",
     "output_type": "stream",
     "text": [
      "Enter: Sehee\n",
      "Hello, Sehee\n"
     ]
    }
   ],
   "source": [
    "name=input(\"Enter: \")\n",
    "print(f\"Hello, {name}\")   # f-string"
   ]
  },
  {
   "cell_type": "code",
   "execution_count": 1,
   "metadata": {},
   "outputs": [
    {
     "name": "stdout",
     "output_type": "stream",
     "text": [
      "입력: 2\n",
      "2는 숫자.\n"
     ]
    }
   ],
   "source": [
    "s=input(\"입력: \")\n",
    "\n",
    "if s.isalpha():\n",
    "    print(\"%s는 문자.\" % s)\n",
    "else:\n",
    "    print(\"%s는 숫자.\" % s)"
   ]
  },
  {
   "cell_type": "code",
   "execution_count": 2,
   "metadata": {},
   "outputs": [
    {
     "name": "stdout",
     "output_type": "stream",
     "text": [
      "Jung\n",
      "['__add__', '__class__', '__contains__', '__delattr__', '__dir__', '__doc__', '__eq__', '__format__', '__ge__', '__getattribute__', '__getitem__', '__getnewargs__', '__gt__', '__hash__', '__init__', '__init_subclass__', '__iter__', '__le__', '__len__', '__lt__', '__mod__', '__mul__', '__ne__', '__new__', '__reduce__', '__reduce_ex__', '__repr__', '__rmod__', '__rmul__', '__setattr__', '__sizeof__', '__str__', '__subclasshook__', 'capitalize', 'casefold', 'center', 'count', 'encode', 'endswith', 'expandtabs', 'find', 'format', 'format_map', 'index', 'isalnum', 'isalpha', 'isascii', 'isdecimal', 'isdigit', 'isidentifier', 'islower', 'isnumeric', 'isprintable', 'isspace', 'istitle', 'isupper', 'join', 'ljust', 'lower', 'lstrip', 'maketrans', 'partition', 'replace', 'rfind', 'rindex', 'rjust', 'rpartition', 'rsplit', 'rstrip', 'split', 'splitlines', 'startswith', 'strip', 'swapcase', 'title', 'translate', 'upper', 'zfill']\n"
     ]
    }
   ],
   "source": [
    "name=\"Jung\"\n",
    "print(name)\n",
    "print(dir(name))"
   ]
  },
  {
   "cell_type": "code",
   "execution_count": 3,
   "metadata": {},
   "outputs": [
    {
     "data": {
      "text/plain": [
       "'JUNG'"
      ]
     },
     "execution_count": 3,
     "metadata": {},
     "output_type": "execute_result"
    }
   ],
   "source": [
    "name.upper()"
   ]
  },
  {
   "cell_type": "code",
   "execution_count": 6,
   "metadata": {},
   "outputs": [
    {
     "data": {
      "text/plain": [
       "False"
      ]
     },
     "execution_count": 6,
     "metadata": {},
     "output_type": "execute_result"
    }
   ],
   "source": [
    "name.startswith(\"a\")"
   ]
  },
  {
   "cell_type": "code",
   "execution_count": 7,
   "metadata": {},
   "outputs": [
    {
     "data": {
      "text/plain": [
       "0"
      ]
     },
     "execution_count": 7,
     "metadata": {},
     "output_type": "execute_result"
    }
   ],
   "source": [
    "name.count(\"a\")"
   ]
  },
  {
   "cell_type": "code",
   "execution_count": 12,
   "metadata": {},
   "outputs": [
    {
     "data": {
      "text/plain": [
       "3"
      ]
     },
     "execution_count": 12,
     "metadata": {},
     "output_type": "execute_result"
    }
   ],
   "source": [
    "dna=\"ACTTCAGGAGC\"\n",
    "dna.count(\"A\")"
   ]
  },
  {
   "cell_type": "code",
   "execution_count": 17,
   "metadata": {},
   "outputs": [
    {
     "name": "stdout",
     "output_type": "stream",
     "text": [
      "2\n",
      "5\n"
     ]
    }
   ],
   "source": [
    "dna2=\"ATTGGCCTCaaTCaTGA\"\n",
    "print(dna2.count(\"A\"))\n",
    "\n",
    "dna3=dna2.upper()\n",
    "print(dna3.count(\"A\"))"
   ]
  },
  {
   "cell_type": "markdown",
   "metadata": {},
   "source": [
    "## open file"
   ]
  },
  {
   "cell_type": "code",
   "execution_count": 21,
   "metadata": {},
   "outputs": [
    {
     "name": "stdout",
     "output_type": "stream",
     "text": [
      "ACCTCGAGTCATCAG\n",
      "ATTTCCCGGGATCGA\n",
      "TTGACTAGTTCCCAT\n"
     ]
    }
   ],
   "source": [
    "fo=open(\"read_sample.txt\", 'r')\n",
    "rl=fo.readlines()\n",
    "# print(rl)  ['ACCTCGAGTCATCAG\\n', 'ATTTCCCGGGATCGA\\n', 'TTGACTAGTTCCCAT']\n",
    "for s in rl:\n",
    "    print(s.strip())  # print 함수 자체는 엔터를 한 번 치는게 기본"
   ]
  },
  {
   "cell_type": "code",
   "execution_count": 31,
   "metadata": {},
   "outputs": [
    {
     "name": "stdout",
     "output_type": "stream",
     "text": [
      "ACCTCGAGTCATCAGATTTCCCGGGATCGATTGACTAGTTCCCAT\n",
      "A: 10\n",
      "9\n",
      "0\n",
      "13\n"
     ]
    }
   ],
   "source": [
    "fo=open(\"read_sample.txt\", 'r')\n",
    "rl=fo.readlines()\n",
    "all_str=\"\"   # 0으로 세팅 꼭 필요!\n",
    "for s in rl:\n",
    "    all_str+=s.strip()\n",
    "print(all_str)\n",
    "print(\"A:\", all_str.count(\"A\"))\n",
    "print(all_str.count(\"G\"))\n",
    "print(all_str.count(\"c\"))\n",
    "print(all_str.count(\"T\"))"
   ]
  },
  {
   "cell_type": "code",
   "execution_count": 22,
   "metadata": {},
   "outputs": [
    {
     "name": "stdout",
     "output_type": "stream",
     "text": [
      "10\n",
      "20\n",
      "30\n"
     ]
    }
   ],
   "source": [
    "var_list=[10, 20, 30]\n",
    "for elem in var_list:\n",
    "    print(elem)"
   ]
  },
  {
   "cell_type": "code",
   "execution_count": 23,
   "metadata": {},
   "outputs": [
    {
     "name": "stdout",
     "output_type": "stream",
     "text": [
      "A\n",
      "G\n",
      "C\n",
      "T\n"
     ]
    }
   ],
   "source": [
    "var_string=\"AGCT\"\n",
    "for elem in var_string:\n",
    "    print(elem)"
   ]
  },
  {
   "cell_type": "code",
   "execution_count": 27,
   "metadata": {},
   "outputs": [
    {
     "name": "stdout",
     "output_type": "stream",
     "text": [
      "A 10\n",
      "C 20\n",
      "G 30\n",
      "T 40\n"
     ]
    }
   ],
   "source": [
    "var_dict={'A':10, 'C':20, 'G':30, 'T':40}\n",
    "# for k, v in var_dict.items():\n",
    "#    print(k, v)\n",
    "for elem in var_dict:\n",
    "    print(elem, var_dict[elem])"
   ]
  },
  {
   "cell_type": "code",
   "execution_count": 30,
   "metadata": {},
   "outputs": [],
   "source": [
    "# fo=open(\"read_sample.txt\", 'r') # 읽기모드\n",
    "fw=open(\"write_sample.txt\", 'w') # 쓰기모드\n",
    "fw.write(\"Hello, biopyhon\\n\")\n",
    "fw.write(\"ACGTAA\\n\")\n",
    "fw.close()"
   ]
  },
  {
   "cell_type": "code",
   "execution_count": 1,
   "metadata": {},
   "outputs": [],
   "source": [
    "fo=open(\"read_sample.txt\", 'r')\n",
    "rl=fo.readlines()\n",
    "all_str=\"\"\n",
    "for s in rl:\n",
    "    all_str+=s.strip()\n",
    "\n",
    "fw=open(\"sample1.txt\", 'w')\n",
    "fw.write(f\"A: {all_str.count('A')}\\n\")   # \\n: 엔터\n",
    "fw.write(f\"G: {all_str.count('G')}\\n\")\n",
    "fw.write(f\"C: {all_str.count('C')}\\n\")\n",
    "fw.write(f\"T: {all_str.count('T')}\\n\")\n",
    "fw.close()"
   ]
  },
  {
   "cell_type": "code",
   "execution_count": 42,
   "metadata": {},
   "outputs": [
    {
     "name": "stdout",
     "output_type": "stream",
     "text": [
      "ACCTCGAGTCATCAG\n",
      "ATTTCCCGGGATCGA\n",
      "TTGACTAGTTCCCAT\n"
     ]
    }
   ],
   "source": [
    "fo=open(\"read_sample.txt\", 'r')\n",
    "rl=fo.readlines()  # 리스트로 변환\n",
    "fo.close()\n",
    "\n",
    "with open(\"read_sample.txt\", 'r') as handle:\n",
    "    for line in handle:  # 핸들에서 한 줄 씩 읽어냄 -> line에 넘김... 이 방법을 더 권장\n",
    "        print(line.strip())\n"
   ]
  },
  {
   "cell_type": "code",
   "execution_count": 46,
   "metadata": {},
   "outputs": [
    {
     "name": "stdout",
     "output_type": "stream",
     "text": [
      "start\n",
      "파일이 없어요...\n",
      "end\n"
     ]
    }
   ],
   "source": [
    "print(\"start\")\n",
    "try:\n",
    "    with open(\"nofile.txt\", 'r') as handle:\n",
    "        for line in handle:  # 핸들에서 한 줄 씩 읽어냄 -> line에 넘김... 이 방법을 더 권장\n",
    "            print(line.strip())\n",
    "except FileNotFoundError:  # except만 있어도 같은 결과 - 모든 오류를 지적함\n",
    "    print(\"파일이 없어요...\")\n",
    "print(\"end\")"
   ]
  },
  {
   "cell_type": "code",
   "execution_count": 52,
   "metadata": {},
   "outputs": [
    {
     "name": "stdout",
     "output_type": "stream",
     "text": [
      "Enter: pi\n",
      "값이 없어요.\n",
      "end\n"
     ]
    }
   ],
   "source": [
    "try:\n",
    "    num=int(input(\"Enter: \"))\n",
    "    print(10/num)\n",
    "except ZeroDivisionError:\n",
    "    print(\"0으로는 나눌 수 없어요.\")\n",
    "except ValueError:\n",
    "    print(\"값이 없어요.\")\n",
    "print(\"end\")"
   ]
  },
  {
   "cell_type": "code",
   "execution_count": 54,
   "metadata": {},
   "outputs": [
    {
     "name": "stdout",
     "output_type": "stream",
     "text": [
      "Bioinformatics\n"
     ]
    }
   ],
   "source": [
    "a=\"Bio\"\n",
    "b=\"informatics\"\n",
    "c=a+b\n",
    "print(c)"
   ]
  },
  {
   "cell_type": "code",
   "execution_count": 55,
   "metadata": {},
   "outputs": [
    {
     "name": "stdout",
     "output_type": "stream",
     "text": [
      "A\n"
     ]
    }
   ],
   "source": [
    "Seq1=\"AGTTTATAG\"\n",
    "print(Seq1[5])  # indexing"
   ]
  },
  {
   "cell_type": "code",
   "execution_count": 57,
   "metadata": {},
   "outputs": [
    {
     "name": "stdout",
     "output_type": "stream",
     "text": [
      "TTA\n"
     ]
    }
   ],
   "source": [
    "Seq1=\"AGTTTATAG\"\n",
    "print(Seq1[3:6])  # slicing"
   ]
  },
  {
   "cell_type": "code",
   "execution_count": 58,
   "metadata": {},
   "outputs": [
    {
     "data": {
      "text/plain": [
       "9"
      ]
     },
     "execution_count": 58,
     "metadata": {},
     "output_type": "execute_result"
    }
   ],
   "source": [
    "Seq1=\"AGTTTATAG\"\n",
    "len(Seq1)"
   ]
  },
  {
   "cell_type": "code",
   "execution_count": 59,
   "metadata": {},
   "outputs": [
    {
     "name": "stdout",
     "output_type": "stream",
     "text": [
      "3\n"
     ]
    }
   ],
   "source": [
    "l=[\"123\", \"456\", \"789\"]\n",
    "print(len(l))   # list는 element에 대한 개수, 문자열은 문자에 대한 개수"
   ]
  },
  {
   "cell_type": "code",
   "execution_count": 60,
   "metadata": {},
   "outputs": [
    {
     "name": "stdout",
     "output_type": "stream",
     "text": [
      "ATGTTATAG\n",
      "atgttatag\n"
     ]
    }
   ],
   "source": [
    "Seq1=\"ATGttATaG\"\n",
    "print(Seq1.upper())\n",
    "print(Seq1.lower())"
   ]
  },
  {
   "cell_type": "code",
   "execution_count": 62,
   "metadata": {},
   "outputs": [
    {
     "name": "stdout",
     "output_type": "stream",
     "text": [
      "0 A\n",
      "3 T\n",
      "6 T\n"
     ]
    }
   ],
   "source": [
    "Seq1=\"ATGTTATAG\"\n",
    "for i in range(0, len(Seq1), 3):\n",
    "    print(i, Seq1[i])   # 0, 3, 6"
   ]
  },
  {
   "cell_type": "code",
   "execution_count": 68,
   "metadata": {},
   "outputs": [
    {
     "name": "stdout",
     "output_type": "stream",
     "text": [
      "0 ATG\n",
      "3 TTA\n",
      "6 TAG\n"
     ]
    }
   ],
   "source": [
    "Seq1=\"ATGTTATAG\"\n",
    "for i in range(0, len(Seq1), 3):\n",
    "    print(i, Seq1[i:i+3]) \n",
    "# print(Seq1[0:3], Seq1[3:6], Seq1[6:9])"
   ]
  },
  {
   "cell_type": "code",
   "execution_count": 69,
   "metadata": {},
   "outputs": [
    {
     "name": "stdout",
     "output_type": "stream",
     "text": [
      "GATATTGTA\n"
     ]
    }
   ],
   "source": [
    "Seq1=\"ATGTTATAG\"\n",
    "print(Seq1[::-1])"
   ]
  },
  {
   "cell_type": "code",
   "execution_count": 74,
   "metadata": {},
   "outputs": [
    {
     "name": "stdout",
     "output_type": "stream",
     "text": [
      "ATGTTATAG\n",
      "TACAATATC\n"
     ]
    }
   ],
   "source": [
    "Seq1=\"ATGTTATAG\"\n",
    "Seq2=\"\"\n",
    "for s in Seq1:\n",
    "    if s==\"A\":\n",
    "        Seq2+=\"T\"\n",
    "    elif s==\"T\":\n",
    "        Seq2+=\"A\"\n",
    "    elif s==\"G\":\n",
    "        Seq2+=\"C\"\n",
    "    elif s==\"C\":\n",
    "        Seq2+=\"G\"\n",
    "print(Seq1)\n",
    "print(Seq2)"
   ]
  },
  {
   "cell_type": "code",
   "execution_count": 77,
   "metadata": {},
   "outputs": [
    {
     "name": "stdout",
     "output_type": "stream",
     "text": [
      "ATGTTATAG\n",
      "TACAATATC\n",
      "CTATAACAT\n"
     ]
    }
   ],
   "source": [
    "Seq1=\"ATGTTATAG\"\n",
    "d={\"A\":\"T\", \"C\":\"G\", \"G\":\"C\", \"T\":\"A\"}\n",
    "Seq2=\"\"\n",
    "for s in Seq1:\n",
    "    Seq2+=d[s]\n",
    "print(Seq1)\n",
    "print(Seq2)\n",
    "print(Seq2[::-1])  # reverse compliment 서열 만들기"
   ]
  },
  {
   "cell_type": "code",
   "execution_count": 81,
   "metadata": {},
   "outputs": [
    {
     "name": "stdout",
     "output_type": "stream",
     "text": [
      "{'A': 3, 'T': 4, 'G': 2}\n"
     ]
    }
   ],
   "source": [
    "Seq1=\"ATGTTATAG\"\n",
    "d={}  # dict() # 빈 사전 만들기\n",
    "for s in Seq1: # 예: s <- A\n",
    "    if s in d: # A가 d에 키로 있니?\n",
    "        d[s]+=1 # d[T]+=1  # {\"T\":2}\n",
    "    else:\n",
    "        d[s]=1 # d[A]=1\n",
    "print(d)"
   ]
  },
  {
   "cell_type": "code",
   "execution_count": 83,
   "metadata": {},
   "outputs": [
    {
     "name": "stdout",
     "output_type": "stream",
     "text": [
      "False\n"
     ]
    }
   ],
   "source": [
    "Seq1=\"ATGTTATAG\"\n",
    "print(\"C\" in Seq1)"
   ]
  },
  {
   "cell_type": "code",
   "execution_count": 85,
   "metadata": {},
   "outputs": [
    {
     "data": {
      "text/plain": [
       "True"
      ]
     },
     "execution_count": 85,
     "metadata": {},
     "output_type": "execute_result"
    }
   ],
   "source": [
    "\"Tom\" in [\"Tom\", \"Jane\", \"Mary\"]"
   ]
  },
  {
   "cell_type": "code",
   "execution_count": 86,
   "metadata": {},
   "outputs": [
    {
     "data": {
      "text/plain": [
       "True"
      ]
     },
     "execution_count": 86,
     "metadata": {},
     "output_type": "execute_result"
    }
   ],
   "source": [
    "\"A\" in {\"A\":0}"
   ]
  },
  {
   "cell_type": "code",
   "execution_count": 90,
   "metadata": {},
   "outputs": [
    {
     "name": "stdout",
     "output_type": "stream",
     "text": [
      "{'T': 1}\n"
     ]
    }
   ],
   "source": [
    "d={}\n",
    "if \"T\" in d:\n",
    "    d[\"T\"]+=1\n",
    "else:\n",
    "    d[\"T\"]=1\n",
    "print(d)"
   ]
  },
  {
   "cell_type": "code",
   "execution_count": 91,
   "metadata": {},
   "outputs": [
    {
     "name": "stdout",
     "output_type": "stream",
     "text": [
      "['AA', ' AC', ' AG', ' AT']\n"
     ]
    }
   ],
   "source": [
    "s=\"AA, AC, AG, AT\"  # csv(,로 구분)\n",
    "print(s.split(\",\"))"
   ]
  },
  {
   "cell_type": "code",
   "execution_count": 92,
   "metadata": {},
   "outputs": [
    {
     "name": "stdout",
     "output_type": "stream",
     "text": [
      "['AA', ' AC', ' AG', ' AT']\n",
      "['AA', ' AC', ' AG', ' AT', 'CA']\n",
      "['CA', ' AT', ' AG', ' AC', 'AA']\n"
     ]
    }
   ],
   "source": [
    "s=\"AA, AC, AG, AT\"\n",
    "l=s.split(\",\")\n",
    "print(l)\n",
    "l.append(\"CA\")\n",
    "print(l)\n",
    "print(l[::-1])"
   ]
  },
  {
   "cell_type": "code",
   "execution_count": null,
   "metadata": {},
   "outputs": [],
   "source": []
  }
 ],
 "metadata": {
  "kernelspec": {
   "display_name": "Python 3",
   "language": "python",
   "name": "python3"
  },
  "language_info": {
   "codemirror_mode": {
    "name": "ipython",
    "version": 3
   },
   "file_extension": ".py",
   "mimetype": "text/x-python",
   "name": "python",
   "nbconvert_exporter": "python",
   "pygments_lexer": "ipython3",
   "version": "3.7.6"
  }
 },
 "nbformat": 4,
 "nbformat_minor": 4
}
